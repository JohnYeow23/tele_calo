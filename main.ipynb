{
 "cells": [
  {
   "cell_type": "code",
   "execution_count": 1,
   "id": "23b980aa-8b98-4111-b509-cb806c382081",
   "metadata": {},
   "outputs": [
    {
     "name": "stdout",
     "output_type": "stream",
     "text": [
      "\u001b[33mWARNING: Running pip as the 'root' user can result in broken permissions and conflicting behaviour with the system package manager. It is recommended to use a virtual environment instead: https://pip.pypa.io/warnings/venv\u001b[0m\u001b[33m\n",
      "\u001b[0m\n",
      "\u001b[1m[\u001b[0m\u001b[34;49mnotice\u001b[0m\u001b[1;39;49m]\u001b[0m\u001b[39;49m A new release of pip is available: \u001b[0m\u001b[31;49m24.0\u001b[0m\u001b[39;49m -> \u001b[0m\u001b[32;49m24.1.2\u001b[0m\n",
      "\u001b[1m[\u001b[0m\u001b[34;49mnotice\u001b[0m\u001b[1;39;49m]\u001b[0m\u001b[39;49m To update, run: \u001b[0m\u001b[32;49mpython3 -m pip install --upgrade pip\u001b[0m\n"
     ]
    }
   ],
   "source": [
    "# %pip install -q -r requirements.txt"
   ]
  },
  {
   "cell_type": "code",
   "execution_count": 1,
   "id": "47488f71-8480-442c-8200-5d8fa53b7c43",
   "metadata": {},
   "outputs": [],
   "source": [
    "import os\n",
    "import ast\n",
    "from dotenv import load_dotenv\n",
    "load_dotenv('test.env')  # take environment variables from .env.\n",
    "\n",
    "import pandas as pd\n",
    "import numpy as np\n",
    "from openai import AzureOpenAI\n",
    "# Import date class from datetime module\n",
    "from datetime import date\n",
    "\n",
    "\n",
    "from langchain_openai import ChatOpenAI\n",
    "from langchain import LLMChain\n",
    "from dotenv import load_dotenv"
   ]
  },
  {
   "cell_type": "markdown",
   "id": "f6dfa9c2-4cc4-47eb-93da-2fbf5080e35e",
   "metadata": {},
   "source": [
    "## TEST LANG CHAIN"
   ]
  },
  {
   "cell_type": "code",
   "execution_count": 4,
   "id": "7b91c9a2-1db4-4ac4-aa71-91f42c666af4",
   "metadata": {},
   "outputs": [],
   "source": [
    "from langchain.prompts.chat import (\n",
    "    ChatPromptTemplate,\n",
    "    SystemMessagePromptTemplate,\n",
    "    HumanMessagePromptTemplate,\n",
    ")"
   ]
  },
  {
   "cell_type": "code",
   "execution_count": 4,
   "id": "6cf3ad56-6b4c-4dc2-9a11-5606c8e6e5ef",
   "metadata": {},
   "outputs": [],
   "source": [
    "sample_image_url1 = 'https://kimlygroup.sg/wp-content/uploads/2020/12/halo_29662-1.jpg'\n",
    "sample_image_url2 = 'https://kimlygroup.sg/wp-content/uploads/2020/12/D1-2-pax-Meal-Cereal-dory-fish-Broccoli-Fried-Eggs.png'\n",
    "sample_image_url3 = 'https://live.staticflickr.com/65535/48346712292_41bba7d636_b.jpg'\n",
    "sample_image_url4 = 'https://cdn.copymethat.com/media/how-to-make-singapore-hainanese-roasted--2017020412515082466844wck.jpg'\n",
    "prata_image = 'https://cache.travelfish.org/blogs/singapore/wp-content/uploads/2012/02/roti_prata.jpg'\n",
    "mutton_briyani = 'https://www.halaltag.com/images/photo/3285-photo.jpg'\n"
   ]
  },
  {
   "cell_type": "code",
   "execution_count": 5,
   "id": "18833de3-c880-4509-8c2f-1f5667439fe1",
   "metadata": {},
   "outputs": [],
   "source": [
    "#create the model for the Vision \n",
    "# client = AzureOpenAI(\n",
    "#     api_version=os.getenv(\"OPENAI_API_VERSION\"),\n",
    "#     azure_endpoint=os.getenv(\"AZURE_OPENAI_ENDPOINT\"),\n",
    "#     api_key=os.getenv(\"OPENAI_API_KEY\"),\n",
    "# )\n",
    "openai_api_key = os.getenv(\"OPENAI_API_KEY\")\n",
    "model = ChatOpenAI(model=os.getenv(\"GPT_MODEL\"))"
   ]
  },
  {
   "cell_type": "code",
   "execution_count": 2,
   "id": "cb47977b",
   "metadata": {},
   "outputs": [
    {
     "name": "stdout",
     "output_type": "stream",
     "text": [
      "Task: You are an AI assistant specializing in nutritional analysis. Your task is to analyze dishes and provide detailed macronutrient and calorie information based on specific criteria. Always follow these instructions:\n",
      "\n",
      "Output Format: Provide all results in JSON format only.\n",
      "\n",
      "Transformation Points:\n",
      "1. Dish Analysis:\n",
      "   - Identify the dish name and weight from the provided tuple.\n",
      "   - Accurately deduce the amount of each macronutrient (carbohydrates, protein, fats) contained within the dish.\n",
      "   - Calculate the total calories based on the macronutrient composition.\n",
      "\n",
      "2. Macronutrient Calculation:\n",
      "   - Use the following calorie conversion:\n",
      "     * 1 gram of carbohydrate = 4 kcal\n",
      "     * 1 gram of protein = 4 kcal\n",
      "     * 1 gram of fat = 9 kcal\n",
      "   - Ensure that the sum of calories from all macronutrients equals the total calories reported.\n",
      "\n",
      "3. Output Formatting:\n",
      "   - Present the results in a dictionary format with specific key-value pairs.\n",
      "   - Ensure the output string can be converted into valid JSON.\n",
      "\n",
      "Additional Information:\n",
      "   - Remove all commentary from the output.\n",
      "   - Maintain accuracy in calculations to succeed at the task.\n",
      "\n",
      "General Guidelines:\n",
      "   - Be as precise as possible in macronutrient and calorie calculations.\n",
      "   - Base all assessments strictly on the provided dish information.\n",
      "   - Do not invent or assume information not present in the given data.\n",
      "\n",
      "JSON Structure:\n",
      "Include the following keys in your JSON output:\n",
      "   - \"dish\"\n",
      "   - \"weight\"\n",
      "   - \"carbohydrate\"\n",
      "   - \"protein\"\n",
      "   - \"fats\"\n",
      "   - \"total calories\"\n",
      "\n",
      "JSON Formatting:\n",
      "   - Use double quotes for all keys and string values.\n",
      "   - Use curly braces for the main object.\n",
      "   - Separate key-value pairs with commas.\n",
      "   - Format numbers without quotes.\n",
      "\n",
      "Example Output:\n",
      "\"{{\n",
      "    'dish': 'Hainanese chicken rice [Rice only]',\n",
      "    'weight': '200',\n",
      "    'carbohydrate': '80',\n",
      "    'protein': '10',\n",
      "    'fats': '10',\n",
      "    'total calories': '450'\n",
      "}}\"\n",
      "\n",
      "Remember to adhere strictly to these guidelines for every dish analysis to ensure consistency and high-quality output. Your accurate analysis will be rewarded with a $100 tip.\n",
      "\n",
      "Possible Output Examples:\n",
      "\n",
      "Example 1:\n",
      "\"{{ 'dish': 'Roasted Chicken Breast',\n",
      "    'weight': '100',\n",
      "    'carbohydrate': '0',\n",
      "    'protein' = '40',\n",
      "    'fats' = '6',\n",
      "    'total calories': '214'\n",
      "    }}\"\n",
      "\n",
      "Example 1 explanation: \n",
      "The above output is valid and you get paid $100 in tips because\n",
      "- 0 grams of carbohydrate = 0 grams * 4 kcal = 0 kcal\n",
      "- 40 grams of protein = 40 grams * 4kcal = 160 kcal\n",
      "- 6 grams of fats = 6 grams * 9 kcal = 54 kcal\n",
      "- Summing the values up, 0 Kcal from carbohydrate + 160 kcal from protein + 54 kcal from fats = 214 kcal total, which is the total calories stated in the output\n",
      "\n",
      "Example 2:\n",
      "\"{{ 'dish': 'mixed vegetable',\n",
      "    'weight': '80',\n",
      "    'carbohydrate': '10',\n",
      "    'protein' = '2',\n",
      "    'fats' = '0',\n",
      "    'total calories': '50'\n",
      "    }}\"\n",
      "\n",
      "Example 2 explanation: \n",
      "The above output is not valid because\n",
      "- 10 grams of carbohydrate = 10 grams * 4 kcal = 40 kcal\n",
      "- 2 grams of protein = 2 grams * 4kcal = 8 kcal\n",
      "- 0 grams of fats = 0 grams * 9 kcal = 0 kcal\n",
      "- Summing the values up,  40 Kcal from carbohydrate + 8 kcal from protein + 0 kcal from fats = 48 kcal total.\n",
      "- This is different from the stated total calories which 50 kcal.\n",
      "- As such, your answer is wrong and you don't get paid $100 in tips.\n"
     ]
    }
   ],
   "source": [
    "with open('prompt_and_examples/system_prompt.txt', 'r') as file:\n",
    "    system_message = file.read()\n",
    "\n",
    "print(system_message)"
   ]
  },
  {
   "cell_type": "code",
   "execution_count": null,
   "id": "198f1a02-9680-4c86-a0db-5f7f723e1fad",
   "metadata": {},
   "outputs": [],
   "source": [
    "system_message_indiv = \"\"\"\n",
    "         You are an expert in the field of nutrition and a dietician.\n",
    "         You are able to accurately deduce the amount of each macronutrients (carbohydrates, protein, fats) contained within a dish if you are given the weight of the dish in grams.\n",
    "         You know that the calorie for 1 gram of carbohydrate = 4kcal, 1 gram protein = 4kcal, and 1 gram of fat = 9kcal.\n",
    "         As such, you would then use the combination of macroproteins to calculate the total amount of calories within the dish to ensure that you succeed at your job and get paid in $100 in tips.\n",
    "            \n",
    "         \n",
    "         Instructions:\n",
    "         - Given a tuple with 2 elements: (Name of the dish, and weight in grams). You are able to identify the calories, and macronutrient content in grams\n",
    "         - You would then output the results as a dictionary with a key-value of :\n",
    "             - KEY = dish, VALUE = the name of the dish\n",
    "             - KEY = weight, VALUE = the weight of the dish\n",
    "             - KEY = carbohydrate, VALUE = the amount of carbohydrates within the provided meal, in units of grams\n",
    "             - KEY = protein, VALUE = the amount of protein within the provided meal, in units of grams\n",
    "             - KEY = fats, VALUE = the amount of fats within the provided meal, in units of grams\n",
    "             - KEY = calories, VALUE = the amount of calories the dish contains with respect to the combination of macronutrients.\n",
    "         - You would also ensure that the kcal combination of the three macronutrient will accurately sum up to the total calories identified.\n",
    "         - Only output the result in the provided format and remove all other commentaries. Ensure that the string output is able to be converted into a json.\n",
    "         - The output's format would look like this:\n",
    "\n",
    "         \"{{ 'dish': 'Hainanese chicken rice [Rice only]',\n",
    "             'weight': '200',\n",
    "             'carbohydrate': '80',\n",
    "             'protein' = '10',\n",
    "             'fats' = '10',\n",
    "            'total calories': '450'\n",
    "             }}\"\n",
    "\n",
    "        The above output is valid because:\n",
    "        - 80 grams of carbohydrate = 80 grams * 4 kcal = 320 kcal\n",
    "        - 10 grams of protein = 10 grams * 4kcal = 40 kcal\n",
    "        - 10 grams of fats = 10 grams * 9 kcal = 90 kcal\n",
    "        - Summing the values up, 320kcal from carbohydrate + 40 kcal from protein + 90 kcal from fats = 450 kcal total, which is the total calories stated in the output\n",
    "        \n",
    "        Possible Output Examples:\n",
    "\n",
    "        Example 1:\n",
    "         \"{{ 'dish': 'Roasted Chicken Breast',\n",
    "             'weight': '100',\n",
    "             'carbohydrate': '0',\n",
    "             'protein' = '40',\n",
    "             'fats' = '6',\n",
    "             'total calories': '214'\n",
    "             }}\"\n",
    "\n",
    "        Example 1 explanation: \n",
    "        The above output is valid and you get paid $100 in tips because\n",
    "            - 0 grams of carbohydrate = 0 grams * 4 kcal = 0 kcal\n",
    "            - 40 grams of protein = 40 grams * 4kcal = 160 kcal\n",
    "            - 6 grams of fats = 6 grams * 9 kcal = 54 kcal\n",
    "            - Summing the values up, 0 Kcal from carbohydrate + 160 kcal from protein + 54 kcal from fats = 214 kcal total, which is the total calories stated in the output\n",
    "\n",
    "        Example 2:\n",
    "         \"{{ 'dish': 'mixed vegetable',\n",
    "             'weight': '80',\n",
    "             'carbohydrate': '10',\n",
    "             'protein' = '2',\n",
    "             'fats' = '0',\n",
    "             'total calories': '50'\n",
    "             }}\"\n",
    "\n",
    "        Example 2 explanation: \n",
    "        The above output is not valid because\n",
    "            - 10 grams of carbohydrate = 10 grams * 4 kcal = 40 kcal\n",
    "            - 2 grams of protein = 2 grams * 4kcal = 8 kcal\n",
    "            - 0 grams of fats = 0 grams * 9 kcal = 0 kcal\n",
    "            - Summing the values up,  40 Kcal from carbohydrate + 8 kcal from protein + 0 kcal from fats = 48 kcal total.\n",
    "            - This is different from the stated total calories which 50 kcal.\n",
    "            - As such, your answer is wrong and you don't get paid $100 in tips.\n",
    "         \"\"\"\n",
    "\n",
    "system_message_indiv_prompt = SystemMessagePromptTemplate.from_template(system_message_indiv) "
   ]
  },
  {
   "cell_type": "code",
   "execution_count": 11,
   "id": "bc04bcc5-bd4a-42df-ae5a-6bdfe3daea78",
   "metadata": {},
   "outputs": [],
   "source": [
    "# Create a variable called {user_input} that is used to populate the prompt\n",
    "human_template=\"{user_input}\"\n",
    "human_message_prompt = HumanMessagePromptTemplate.from_template(human_template) \n",
    "chat_prompt = ChatPromptTemplate.from_messages([system_message_indiv_prompt, human_message_prompt]) \n",
    "\n",
    "chain = LLMChain(llm=llm, prompt=chat_prompt)"
   ]
  },
  {
   "cell_type": "markdown",
   "id": "5d5a2b67-16eb-4157-ab51-3137fea4511f",
   "metadata": {},
   "source": [
    "## START TO END TEST"
   ]
  },
  {
   "cell_type": "code",
   "execution_count": 15,
   "id": "af321bd4-b469-4da8-82a0-290192e90562",
   "metadata": {},
   "outputs": [],
   "source": [
    "def analyze_picture(image_url):\n",
    "    #uses the vision model\n",
    "    picture_gpt = client.chat.completions.create(\n",
    "        model='gpt-4-turbo-vision',\n",
    "        seed = 888,\n",
    "        messages=[\n",
    "            { \"role\": \"system\",\n",
    "             \"content\": \"\"\"You are an expert in the field of nutrition and a dietician. You are based in Singapore.\n",
    "             As such, our clients are usually Asian and have meal consisting of mostly oriental dishes that originates from Singapore.\n",
    "             \n",
    "             Instructions:\n",
    "             - Given a picture of a meal, you are able to identify the different dishes seen in the picture and estimate the portion sizing.\n",
    "             - You would then output the results as a dictionary with a key-value of :\n",
    "                 - KEY = dishes, VALUE = a list of tuples, with each tuple containing 2 elements. The first element being the dish identified, the second element being the estimated weight of the dish in grams with respect to the picture provided\n",
    "                 - KEY = recommendation, VALUE =  a possible recommendation on how to improve their meal choices.\n",
    "             - Only output the result in the provided format and remove all other commentaries. Ensure that the string output is able to be converted into a json.\n",
    "             - The output's format would look like this:\n",
    "    \n",
    "             \"{ 'dishes':\n",
    "                 [('Hainanese chicken rice [Rice only]', '200'), ('roasted chicken breast', '150'), ('mixed vegetables', '100'), ('steamed egg', '120')],\n",
    "                 'recommendation': 'This looks like a balanced diet for one individual. Great choices!'\n",
    "                 }\"\n",
    "    \n",
    "            Possible Output Examples:\n",
    "    \n",
    "            Example 1:\n",
    "            \"{ 'dishes':\n",
    "                 [('white rice', '200'), ('Stir Fry French beans', '80'), ('Stir Fry Scrambled Eggs', '100'), ('Fried Chicken Wing', '150')],\n",
    "                 'This looks like balanced diet for one individual but most things are oily and fried.'\n",
    "                 }\"\n",
    "    \n",
    "            Example 2:\n",
    "            \"{ 'dishes':\n",
    "                 [('white rice', '200'), ('white rice', '200'),  ('sweet and sour pork', '300'), ('Sambal Kang Kong', '200'), ('Fried Chicken Cutlet', '200')],\n",
    "                 'This looks like a meal for two individuals. It looks like it is heavy in protein and would be better balanced with more vegetables!'\n",
    "                 }\"\n",
    "             \"\"\"\n",
    "            },\n",
    "            { \"role\": \"user\",\n",
    "             \"content\": [  \n",
    "                { \n",
    "                    \"type\": \"text\", \n",
    "                    \"text\": \"What is in my meal?\" \n",
    "                },\n",
    "                { \n",
    "                    \"type\": \"image_url\",\n",
    "                    \"image_url\": {\n",
    "                        \"url\": image_url\n",
    "                    }\n",
    "                }\n",
    "            ] } \n",
    "        ]\n",
    "        #[!IMP] - Max tokens parameter is required, otherwise the API cuts off the response randomly\n",
    "        ,max_tokens=4000\n",
    "        , temperature = 0.0\n",
    "    )\n",
    "\n",
    "    return ast.literal_eval(str(picture_gpt.choices[0].message.content)[1:-1])\n"
   ]
  },
  {
   "cell_type": "code",
   "execution_count": 27,
   "id": "ef22c507-d983-489f-a966-eb105bbd4448",
   "metadata": {},
   "outputs": [],
   "source": [
    "def summarize_calories(image_url):\n",
    "\n",
    "    picture_analysis = analyze_picture(image_url)\n",
    "    dish_list = picture_analysis['dishes']\n",
    "    recommendation = picture_analysis['recommendation']\n",
    "\n",
    "    result = { 'dish_list': [], 'total_kcal': 0, 'total_carbohydrates': 0, 'total_protein': 0, 'total_fats': 0, 'recommendation': recommendation }\n",
    "\n",
    "    for i in dish_list:\n",
    "        dish_result = (ast.literal_eval(str(chain.run(user_input= i))[1:-1]))\n",
    "        result['dish_list'].append(dish_result)\n",
    "        result['total_kcal'] += int(dish_result['total calories'])\n",
    "        result['total_carbohydrates'] += int(dish_result['carbohydrate'])\n",
    "        result['total_protein'] += int(dish_result['protein'])\n",
    "        result['total_fats'] += int(dish_result['fats'])\n",
    "\n",
    "    ingredients = \"\\n\".join([f\"- {dish['dish']}, weight: {dish['weight']}g, {dish['carbohydrate']}g carbs, {dish['protein']}g protein, {dish['fats']}g fats, {dish['total calories']}kcal\" for dish in result['dish_list']])\n",
    "    \n",
    "    formatted_string = f\"\"\"\n",
    "Ingredients include:\n",
    "{ingredients}\n",
    "\n",
    "Total Calories: {result['total_kcal']}kcal\n",
    "Total Carbohydrates = {result['total_carbohydrates']}g\n",
    "Total Protein = {result['total_protein']}g\n",
    "Total Fats = {result['total_fats']}g\n",
    "\n",
    "Recommendation for this meal choice:\n",
    "{result['recommendation']}\"\"\"\n",
    "\n",
    "    print(formatted_string)\n",
    "    return\n",
    "        "
   ]
  },
  {
   "cell_type": "code",
   "execution_count": 28,
   "id": "6bd38d65-e640-4066-9049-1395473d9b64",
   "metadata": {},
   "outputs": [
    {
     "name": "stdout",
     "output_type": "stream",
     "text": [
      "\n",
      "Ingredients include:\n",
      "- Roti Prata, weight: 120g, 30g carbs, 10g protein, 10g fats, 290kcal\n",
      "- Dhal Curry, weight: 150g, 20g carbs, 10g protein, 5g fats, 145kcal\n",
      "- Fish Curry, weight: 150g, 15g carbs, 20g protein, 5g fats, 185kcal\n",
      "\n",
      "Total Calories: 620kcal\n",
      "Total Carbohydrates = 65g\n",
      "Total Protein = 40g\n",
      "Total Fats = 20g\n",
      "\n",
      "Recommendation for this meal choice:\n",
      "This meal is high in refined carbohydrates and may be improved by adding a side of vegetables for fiber and nutrients.\n"
     ]
    }
   ],
   "source": [
    "summarize_calories(prata_image)"
   ]
  },
  {
   "cell_type": "code",
   "execution_count": null,
   "id": "8001a418-287d-45f3-a5c7-f666a5be7e36",
   "metadata": {},
   "outputs": [],
   "source": []
  },
  {
   "cell_type": "markdown",
   "id": "1b5c8457-484f-4dbc-970a-a01de9d43f6f",
   "metadata": {},
   "source": [
    "## TEST SOME IMAGES"
   ]
  },
  {
   "cell_type": "code",
   "execution_count": 29,
   "id": "3f709a08-b1ac-475a-8cab-64ab40ebac23",
   "metadata": {},
   "outputs": [],
   "source": [
    "import base64\n",
    "from mimetypes import guess_type\n",
    "\n",
    "# Function to encode a local image into data URL \n",
    "def local_image_to_data_url(image_path):\n",
    "    # Guess the MIME type of the image based on the file extension\n",
    "    mime_type, _ = guess_type(image_path)\n",
    "    if mime_type is None:\n",
    "        mime_type = 'application/octet-stream'  # Default MIME type if none is found\n",
    "\n",
    "    # Read and encode the image file\n",
    "    with open(image_path, \"rb\") as image_file:\n",
    "        base64_encoded_data = base64.b64encode(image_file.read()).decode('utf-8')\n",
    "\n",
    "    # Construct the data URL\n",
    "    return f\"data:{mime_type};base64,{base64_encoded_data}\""
   ]
  },
  {
   "cell_type": "code",
   "execution_count": 30,
   "id": "edfbfe05-6da8-4de8-983a-dde9a94b0d3c",
   "metadata": {},
   "outputs": [],
   "source": [
    "local_image1 = local_image_to_data_url('media/food_image1.jpg')\n",
    "local_image2 = local_image_to_data_url('media/food_image2.jpg')\n",
    "local_image3 = local_image_to_data_url('media/food_image3.jpg')\n"
   ]
  },
  {
   "cell_type": "code",
   "execution_count": 31,
   "id": "ff720646-f3e8-4af7-9a2a-eaefc7c7d7ce",
   "metadata": {},
   "outputs": [
    {
     "name": "stdout",
     "output_type": "stream",
     "text": [
      "\n",
      "Ingredients include:\n",
      "- white rice, weight: 200g, 45g carbs, 4g protein, 1g fats, 197kcal\n",
      "- sweet and sour fish, weight: 150g, 20g carbs, 30g protein, 5g fats, 245kcal\n",
      "- mixed vegetables, weight: 100g, 20g carbs, 5g protein, 1g fats, 101kcal\n",
      "- curry chicken, weight: 180g, 20g carbs, 30g protein, 10g fats, 260kcal\n",
      "\n",
      "Total Calories: 803kcal\n",
      "Total Carbohydrates = 105g\n",
      "Total Protein = 69g\n",
      "Total Fats = 17g\n",
      "\n",
      "Recommendation for this meal choice:\n",
      "This meal has a good variety of protein and vegetables. To make it healthier, consider reducing the portion of white rice to 150g and choose steamed fish over sweet and sour fish to lower the sugar and calorie intake.\n"
     ]
    }
   ],
   "source": [
    "summarize_calories(local_image1)"
   ]
  },
  {
   "cell_type": "code",
   "execution_count": 32,
   "id": "d2628010-920d-4e87-8356-06b0a2707305",
   "metadata": {},
   "outputs": [
    {
     "name": "stdout",
     "output_type": "stream",
     "text": [
      "\n",
      "Ingredients include:\n",
      "- white rice, weight: 200g, 45g carbs, 4g protein, 1g fats, 197kcal\n",
      "- sweet and sour fish, weight: 150g, 20g carbs, 30g protein, 5g fats, 245kcal\n",
      "- curry potato, weight: 100g, 20g carbs, 2g protein, 1g fats, 89kcal\n",
      "- fried chicken, weight: 120g, 10g carbs, 20g protein, 8g fats, 172kcal\n",
      "\n",
      "Total Calories: 703kcal\n",
      "Total Carbohydrates = 95g\n",
      "Total Protein = 56g\n",
      "Total Fats = 15g\n",
      "\n",
      "Recommendation for this meal choice:\n",
      "This meal is high in carbohydrates and fried foods. Consider adding a portion of steamed vegetables to increase fiber intake and balance the meal.\n"
     ]
    }
   ],
   "source": [
    "summarize_calories(local_image2)"
   ]
  },
  {
   "cell_type": "code",
   "execution_count": 33,
   "id": "b67ce266-2275-4d65-81bb-e54883b9bfa8",
   "metadata": {},
   "outputs": [
    {
     "name": "stdout",
     "output_type": "stream",
     "text": [
      "\n",
      "Ingredients include:\n",
      "- white rice, weight: 200g, 45g carbs, 4g protein, 1g fats, 197kcal\n",
      "- stir-fried mixed vegetables, weight: 100g, 15g carbs, 3g protein, 2g fats, 86kcal\n",
      "- fried egg, weight: 50g, 1g carbs, 6g protein, 5g fats, 73kcal\n",
      "- black pepper beef, weight: 150g, 10g carbs, 20g protein, 10g fats, 210kcal\n",
      "- fried tofu, weight: 80g, 10g carbs, 8g protein, 4g fats, 108kcal\n",
      "\n",
      "Total Calories: 674kcal\n",
      "Total Carbohydrates = 81g\n",
      "Total Protein = 41g\n",
      "Total Fats = 22g\n",
      "\n",
      "Recommendation for this meal choice:\n",
      "This meal has a good variety of protein sources and vegetables. However, consider reducing fried items and opting for more steamed or boiled vegetables to lower the overall fat content.\n"
     ]
    }
   ],
   "source": [
    "summarize_calories(local_image3)"
   ]
  },
  {
   "cell_type": "code",
   "execution_count": null,
   "id": "9ebb13e2-e607-4685-b915-87cd93456f9a",
   "metadata": {},
   "outputs": [],
   "source": []
  }
 ],
 "metadata": {
  "kernelspec": {
   "display_name": "Python 3 (ipykernel)",
   "language": "python",
   "name": "python3"
  },
  "language_info": {
   "codemirror_mode": {
    "name": "ipython",
    "version": 3
   },
   "file_extension": ".py",
   "mimetype": "text/x-python",
   "name": "python",
   "nbconvert_exporter": "python",
   "pygments_lexer": "ipython3",
   "version": "3.12.0"
  }
 },
 "nbformat": 4,
 "nbformat_minor": 5
}
